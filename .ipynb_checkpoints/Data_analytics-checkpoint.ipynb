{
 "cells": [
  {
   "cell_type": "code",
   "execution_count": 1,
   "metadata": {},
   "outputs": [
    {
     "name": "stderr",
     "output_type": "stream",
     "text": [
      "/usr/lib/python3.6/importlib/_bootstrap.py:219: RuntimeWarning: numpy.dtype size changed, may indicate binary incompatibility. Expected 96, got 88\n",
      "  return f(*args, **kwds)\n",
      "/usr/lib/python3.6/importlib/_bootstrap.py:219: RuntimeWarning: numpy.dtype size changed, may indicate binary incompatibility. Expected 96, got 88\n",
      "  return f(*args, **kwds)\n"
     ]
    }
   ],
   "source": [
    "#!/usr/bin/python3.6\n",
    "\n",
    "import pandas as pd\n",
    "import matplotlib.pyplot as plt\n",
    "\n",
    "#Load the Data from file\n",
    "df = pd.read_csv('Sensor.csv')\n",
    "\n"
   ]
  },
  {
   "cell_type": "code",
   "execution_count": 2,
   "metadata": {},
   "outputs": [
    {
     "data": {
      "text/plain": [
       "6.721828014184397"
      ]
     },
     "execution_count": 2,
     "metadata": {},
     "output_type": "execute_result"
    }
   ],
   "source": [
    "df[\"ACCELEROMETER X\"].mean()"
   ]
  },
  {
   "cell_type": "code",
   "execution_count": 3,
   "metadata": {},
   "outputs": [
    {
     "data": {
      "text/plain": [
       "-5.4411099290780145"
      ]
     },
     "execution_count": 3,
     "metadata": {},
     "output_type": "execute_result"
    }
   ],
   "source": [
    "df['ACCELEROMETER Y'].mean()"
   ]
  },
  {
   "cell_type": "code",
   "execution_count": 4,
   "metadata": {},
   "outputs": [
    {
     "data": {
      "text/plain": [
       "Index(['counter time', 'Date', 'ACCELEROMETER X', 'ACCELEROMETER Y',\n",
       "       'ACCELEROMETER Z', 'GRAVITY X (m/s²)', 'GRAVITY Y (m/s²)',\n",
       "       'GRAVITY Z (m/s²)', 'LINEAR_X', 'LINEAR_Y', 'LINEAR_Z',\n",
       "       'GYROSCOPE X (rad/s)', 'GYROSCOPE Y (rad/s)', 'GYROSCOPE Z (rad/s)',\n",
       "       'LIGHT (lux)', 'MAGNETIC FIELD X (μT)', 'MAGNETIC FIELD Y (μT)',\n",
       "       'MAGNETIC FIELD Z (μT)', 'ORIENTATION Z (azimuth °)',\n",
       "       'ORIENTATION X (pitch °)', 'ORIENTATION Y (roll °)', 'PROXIMITY (m)',\n",
       "       'SOUND LEVEL (dB)', 'LOCATION Latitude : ', 'LOCATION Longitude : ',\n",
       "       'LOCATION Altitude ( m)', 'LOCATION Altitude-google ( m)',\n",
       "       'LOCATION Speed ( m/s)', 'LOCATION Accuracy ( m)',\n",
       "       'LOCATION ORIENTATION (°)', 'Satellites in range'],\n",
       "      dtype='object')"
      ]
     },
     "execution_count": 4,
     "metadata": {},
     "output_type": "execute_result"
    }
   ],
   "source": [
    "df.columns"
   ]
  },
  {
   "cell_type": "code",
   "execution_count": 5,
   "metadata": {},
   "outputs": [
    {
     "data": {
      "text/html": [
       "<div>\n",
       "<style scoped>\n",
       "    .dataframe tbody tr th:only-of-type {\n",
       "        vertical-align: middle;\n",
       "    }\n",
       "\n",
       "    .dataframe tbody tr th {\n",
       "        vertical-align: top;\n",
       "    }\n",
       "\n",
       "    .dataframe thead th {\n",
       "        text-align: right;\n",
       "    }\n",
       "</style>\n",
       "<table border=\"1\" class=\"dataframe\">\n",
       "  <thead>\n",
       "    <tr style=\"text-align: right;\">\n",
       "      <th></th>\n",
       "      <th>counter time</th>\n",
       "      <th>ACCELEROMETER X</th>\n",
       "      <th>ACCELEROMETER Y</th>\n",
       "      <th>ACCELEROMETER Z</th>\n",
       "      <th>GRAVITY X (m/s²)</th>\n",
       "      <th>GRAVITY Y (m/s²)</th>\n",
       "      <th>GRAVITY Z (m/s²)</th>\n",
       "      <th>LINEAR_X</th>\n",
       "      <th>LINEAR_Y</th>\n",
       "      <th>LINEAR_Z</th>\n",
       "      <th>...</th>\n",
       "      <th>ORIENTATION Z (azimuth °)</th>\n",
       "      <th>ORIENTATION X (pitch °)</th>\n",
       "      <th>ORIENTATION Y (roll °)</th>\n",
       "      <th>PROXIMITY (m)</th>\n",
       "      <th>SOUND LEVEL (dB)</th>\n",
       "      <th>LOCATION Altitude ( m)</th>\n",
       "      <th>LOCATION Altitude-google ( m)</th>\n",
       "      <th>LOCATION Speed ( m/s)</th>\n",
       "      <th>LOCATION Accuracy ( m)</th>\n",
       "      <th>LOCATION ORIENTATION (°)</th>\n",
       "    </tr>\n",
       "  </thead>\n",
       "  <tbody>\n",
       "    <tr>\n",
       "      <th>count</th>\n",
       "      <td>564.000000</td>\n",
       "      <td>564.000000</td>\n",
       "      <td>564.000000</td>\n",
       "      <td>564.000000</td>\n",
       "      <td>564.000000</td>\n",
       "      <td>564.000000</td>\n",
       "      <td>564.000000</td>\n",
       "      <td>564.000000</td>\n",
       "      <td>564.000000</td>\n",
       "      <td>564.000000</td>\n",
       "      <td>...</td>\n",
       "      <td>564.000000</td>\n",
       "      <td>564.000000</td>\n",
       "      <td>564.000000</td>\n",
       "      <td>564.000000</td>\n",
       "      <td>564.000000</td>\n",
       "      <td>564.0</td>\n",
       "      <td>5.640000e+02</td>\n",
       "      <td>564.00</td>\n",
       "      <td>5.640000e+02</td>\n",
       "      <td>5.640000e+02</td>\n",
       "    </tr>\n",
       "    <tr>\n",
       "      <th>mean</th>\n",
       "      <td>140587.936170</td>\n",
       "      <td>6.721828</td>\n",
       "      <td>-5.441110</td>\n",
       "      <td>-3.378248</td>\n",
       "      <td>6.803696</td>\n",
       "      <td>-5.265405</td>\n",
       "      <td>-3.756202</td>\n",
       "      <td>0.082800</td>\n",
       "      <td>-0.346945</td>\n",
       "      <td>0.195752</td>\n",
       "      <td>...</td>\n",
       "      <td>129.502553</td>\n",
       "      <td>33.565142</td>\n",
       "      <td>-117.920195</td>\n",
       "      <td>0.044326</td>\n",
       "      <td>53.126482</td>\n",
       "      <td>815.0</td>\n",
       "      <td>8.791360e+02</td>\n",
       "      <td>1.75</td>\n",
       "      <td>2.578900e+01</td>\n",
       "      <td>2.210000e+01</td>\n",
       "    </tr>\n",
       "    <tr>\n",
       "      <th>std</th>\n",
       "      <td>81309.608773</td>\n",
       "      <td>2.281515</td>\n",
       "      <td>2.755752</td>\n",
       "      <td>1.548012</td>\n",
       "      <td>1.126470</td>\n",
       "      <td>1.995925</td>\n",
       "      <td>1.675771</td>\n",
       "      <td>2.204767</td>\n",
       "      <td>1.402395</td>\n",
       "      <td>1.111241</td>\n",
       "      <td>...</td>\n",
       "      <td>154.240671</td>\n",
       "      <td>13.841900</td>\n",
       "      <td>12.169444</td>\n",
       "      <td>0.469102</td>\n",
       "      <td>6.430896</td>\n",
       "      <td>0.0</td>\n",
       "      <td>1.137878e-13</td>\n",
       "      <td>0.00</td>\n",
       "      <td>1.066760e-14</td>\n",
       "      <td>3.555867e-15</td>\n",
       "    </tr>\n",
       "    <tr>\n",
       "      <th>min</th>\n",
       "      <td>15.000000</td>\n",
       "      <td>-3.639500</td>\n",
       "      <td>-14.412000</td>\n",
       "      <td>-6.723500</td>\n",
       "      <td>-3.108400</td>\n",
       "      <td>-8.278100</td>\n",
       "      <td>-7.183600</td>\n",
       "      <td>-5.867000</td>\n",
       "      <td>-7.868500</td>\n",
       "      <td>-8.068700</td>\n",
       "      <td>...</td>\n",
       "      <td>0.000000</td>\n",
       "      <td>-10.940000</td>\n",
       "      <td>-148.920000</td>\n",
       "      <td>0.000000</td>\n",
       "      <td>36.532000</td>\n",
       "      <td>815.0</td>\n",
       "      <td>8.791360e+02</td>\n",
       "      <td>1.75</td>\n",
       "      <td>2.578900e+01</td>\n",
       "      <td>2.210000e+01</td>\n",
       "    </tr>\n",
       "    <tr>\n",
       "      <th>25%</th>\n",
       "      <td>70470.000000</td>\n",
       "      <td>5.237300</td>\n",
       "      <td>-7.473700</td>\n",
       "      <td>-4.138300</td>\n",
       "      <td>6.095775</td>\n",
       "      <td>-7.089825</td>\n",
       "      <td>-4.925075</td>\n",
       "      <td>-1.366700</td>\n",
       "      <td>-1.167525</td>\n",
       "      <td>-0.551675</td>\n",
       "      <td>...</td>\n",
       "      <td>8.117500</td>\n",
       "      <td>21.190000</td>\n",
       "      <td>-123.260000</td>\n",
       "      <td>0.000000</td>\n",
       "      <td>48.131000</td>\n",
       "      <td>815.0</td>\n",
       "      <td>8.791360e+02</td>\n",
       "      <td>1.75</td>\n",
       "      <td>2.578900e+01</td>\n",
       "      <td>2.210000e+01</td>\n",
       "    </tr>\n",
       "    <tr>\n",
       "      <th>50%</th>\n",
       "      <td>140323.500000</td>\n",
       "      <td>7.035500</td>\n",
       "      <td>-6.271000</td>\n",
       "      <td>-3.520700</td>\n",
       "      <td>6.972850</td>\n",
       "      <td>-5.689500</td>\n",
       "      <td>-3.670500</td>\n",
       "      <td>0.564800</td>\n",
       "      <td>-0.423950</td>\n",
       "      <td>0.120900</td>\n",
       "      <td>...</td>\n",
       "      <td>26.080000</td>\n",
       "      <td>34.870000</td>\n",
       "      <td>-118.805000</td>\n",
       "      <td>0.000000</td>\n",
       "      <td>53.378000</td>\n",
       "      <td>815.0</td>\n",
       "      <td>8.791360e+02</td>\n",
       "      <td>1.75</td>\n",
       "      <td>2.578900e+01</td>\n",
       "      <td>2.210000e+01</td>\n",
       "    </tr>\n",
       "    <tr>\n",
       "      <th>75%</th>\n",
       "      <td>211220.000000</td>\n",
       "      <td>8.166400</td>\n",
       "      <td>-2.967100</td>\n",
       "      <td>-2.832500</td>\n",
       "      <td>7.661575</td>\n",
       "      <td>-3.548275</td>\n",
       "      <td>-2.824075</td>\n",
       "      <td>1.681225</td>\n",
       "      <td>0.604975</td>\n",
       "      <td>0.896425</td>\n",
       "      <td>...</td>\n",
       "      <td>326.687500</td>\n",
       "      <td>46.400000</td>\n",
       "      <td>-114.405000</td>\n",
       "      <td>0.000000</td>\n",
       "      <td>58.028750</td>\n",
       "      <td>815.0</td>\n",
       "      <td>8.791360e+02</td>\n",
       "      <td>1.75</td>\n",
       "      <td>2.578900e+01</td>\n",
       "      <td>2.210000e+01</td>\n",
       "    </tr>\n",
       "    <tr>\n",
       "      <th>max</th>\n",
       "      <td>281076.000000</td>\n",
       "      <td>21.359500</td>\n",
       "      <td>2.097300</td>\n",
       "      <td>11.548100</td>\n",
       "      <td>8.884000</td>\n",
       "      <td>1.793200</td>\n",
       "      <td>9.675200</td>\n",
       "      <td>9.166700</td>\n",
       "      <td>3.480800</td>\n",
       "      <td>4.640200</td>\n",
       "      <td>...</td>\n",
       "      <td>359.860000</td>\n",
       "      <td>56.990000</td>\n",
       "      <td>18.510000</td>\n",
       "      <td>5.000000</td>\n",
       "      <td>68.913000</td>\n",
       "      <td>815.0</td>\n",
       "      <td>8.791360e+02</td>\n",
       "      <td>1.75</td>\n",
       "      <td>2.578900e+01</td>\n",
       "      <td>2.210000e+01</td>\n",
       "    </tr>\n",
       "  </tbody>\n",
       "</table>\n",
       "<p>8 rows × 27 columns</p>\n",
       "</div>"
      ],
      "text/plain": [
       "        counter time  ACCELEROMETER X  ACCELEROMETER Y  ACCELEROMETER Z  \\\n",
       "count     564.000000       564.000000       564.000000       564.000000   \n",
       "mean   140587.936170         6.721828        -5.441110        -3.378248   \n",
       "std     81309.608773         2.281515         2.755752         1.548012   \n",
       "min        15.000000        -3.639500       -14.412000        -6.723500   \n",
       "25%     70470.000000         5.237300        -7.473700        -4.138300   \n",
       "50%    140323.500000         7.035500        -6.271000        -3.520700   \n",
       "75%    211220.000000         8.166400        -2.967100        -2.832500   \n",
       "max    281076.000000        21.359500         2.097300        11.548100   \n",
       "\n",
       "       GRAVITY X (m/s²)  GRAVITY Y (m/s²)  GRAVITY Z (m/s²)    LINEAR_X  \\\n",
       "count        564.000000        564.000000        564.000000  564.000000   \n",
       "mean           6.803696         -5.265405         -3.756202    0.082800   \n",
       "std            1.126470          1.995925          1.675771    2.204767   \n",
       "min           -3.108400         -8.278100         -7.183600   -5.867000   \n",
       "25%            6.095775         -7.089825         -4.925075   -1.366700   \n",
       "50%            6.972850         -5.689500         -3.670500    0.564800   \n",
       "75%            7.661575         -3.548275         -2.824075    1.681225   \n",
       "max            8.884000          1.793200          9.675200    9.166700   \n",
       "\n",
       "         LINEAR_Y    LINEAR_Z            ...             \\\n",
       "count  564.000000  564.000000            ...              \n",
       "mean    -0.346945    0.195752            ...              \n",
       "std      1.402395    1.111241            ...              \n",
       "min     -7.868500   -8.068700            ...              \n",
       "25%     -1.167525   -0.551675            ...              \n",
       "50%     -0.423950    0.120900            ...              \n",
       "75%      0.604975    0.896425            ...              \n",
       "max      3.480800    4.640200            ...              \n",
       "\n",
       "       ORIENTATION Z (azimuth °)  ORIENTATION X (pitch °)  \\\n",
       "count                 564.000000               564.000000   \n",
       "mean                  129.502553                33.565142   \n",
       "std                   154.240671                13.841900   \n",
       "min                     0.000000               -10.940000   \n",
       "25%                     8.117500                21.190000   \n",
       "50%                    26.080000                34.870000   \n",
       "75%                   326.687500                46.400000   \n",
       "max                   359.860000                56.990000   \n",
       "\n",
       "       ORIENTATION Y (roll °)  PROXIMITY (m)  SOUND LEVEL (dB)  \\\n",
       "count              564.000000     564.000000        564.000000   \n",
       "mean              -117.920195       0.044326         53.126482   \n",
       "std                 12.169444       0.469102          6.430896   \n",
       "min               -148.920000       0.000000         36.532000   \n",
       "25%               -123.260000       0.000000         48.131000   \n",
       "50%               -118.805000       0.000000         53.378000   \n",
       "75%               -114.405000       0.000000         58.028750   \n",
       "max                 18.510000       5.000000         68.913000   \n",
       "\n",
       "       LOCATION Altitude ( m)  LOCATION Altitude-google ( m)  \\\n",
       "count                   564.0                   5.640000e+02   \n",
       "mean                    815.0                   8.791360e+02   \n",
       "std                       0.0                   1.137878e-13   \n",
       "min                     815.0                   8.791360e+02   \n",
       "25%                     815.0                   8.791360e+02   \n",
       "50%                     815.0                   8.791360e+02   \n",
       "75%                     815.0                   8.791360e+02   \n",
       "max                     815.0                   8.791360e+02   \n",
       "\n",
       "       LOCATION Speed ( m/s)  LOCATION Accuracy ( m)  LOCATION ORIENTATION (°)  \n",
       "count                 564.00            5.640000e+02              5.640000e+02  \n",
       "mean                    1.75            2.578900e+01              2.210000e+01  \n",
       "std                     0.00            1.066760e-14              3.555867e-15  \n",
       "min                     1.75            2.578900e+01              2.210000e+01  \n",
       "25%                     1.75            2.578900e+01              2.210000e+01  \n",
       "50%                     1.75            2.578900e+01              2.210000e+01  \n",
       "75%                     1.75            2.578900e+01              2.210000e+01  \n",
       "max                     1.75            2.578900e+01              2.210000e+01  \n",
       "\n",
       "[8 rows x 27 columns]"
      ]
     },
     "execution_count": 5,
     "metadata": {},
     "output_type": "execute_result"
    }
   ],
   "source": [
    "df.describe()"
   ]
  },
  {
   "cell_type": "code",
   "execution_count": 6,
   "metadata": {},
   "outputs": [
    {
     "data": {
      "text/plain": [
       "<matplotlib.axes._subplots.AxesSubplot at 0x7f3bdd751358>"
      ]
     },
     "execution_count": 6,
     "metadata": {},
     "output_type": "execute_result"
    },
    {
     "data": {
      "image/png": "[encoded data removed]",
      "text/plain": [
       "<Figure size 432x288 with 1 Axes>"
      ]
     },
     "metadata": {},
     "output_type": "display_data"
    }
   ],
   "source": [
    "df.plot(y= 'LINEAR_X', x = 'counter time')"
   ]
  },
  {
   "cell_type": "code",
   "execution_count": 7,
   "metadata": {},
   "outputs": [
    {
     "data": {
      "text/plain": [
       "<matplotlib.axes._subplots.AxesSubplot at 0x7f3badab3278>"
      ]
     },
     "execution_count": 7,
     "metadata": {},
     "output_type": "execute_result"
    },
    {
     "data": {
      "image/png": "[encoded data removed]",
      "text/plain": [
       "<Figure size 432x288 with 1 Axes>"
      ]
     },
     "metadata": {},
     "output_type": "display_data"
    }
   ],
   "source": [
    "df.plot(y= 'LINEAR_Z', x = 'counter time')"
   ]
  },
  {
   "cell_type": "code",
   "execution_count": 9,
   "metadata": {},
   "outputs": [
    {
     "data": {
      "text/plain": [
       "<matplotlib.axes._subplots.AxesSubplot at 0x7f3bada3b278>"
      ]
     },
     "execution_count": 9,
     "metadata": {},
     "output_type": "execute_result"
    },
    {
     "data": {
      "image/png": "[encoded data removed]",
      "text/plain": [
       "<Figure size 432x288 with 1 Axes>"
      ]
     },
     "metadata": {},
     "output_type": "display_data"
    }
   ],
   "source": [
    "df1 = df.loc[:,[\"LINEAR_X\",\"LINEAR_Y\",\"LINEAR_Z\"]]"
   ]
  }
 ],
 "metadata": {
  "kernelspec": {
   "display_name": "Python 3",
   "language": "python",
   "name": "python3"
  },
  "language_info": {
   "codemirror_mode": {
    "name": "ipython",
    "version": 3
   },
   "file_extension": ".py",
   "mimetype": "text/x-python",
   "name": "python",
   "nbconvert_exporter": "python",
   "pygments_lexer": "ipython3",
   "version": "3.6.5"
  }
 },
 "nbformat": 4,
 "nbformat_minor": 2
}
