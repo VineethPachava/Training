{
 "cells": [
  {
   "cell_type": "code",
   "execution_count": 1,
   "metadata": {},
   "outputs": [
    {
     "name": "stderr",
     "output_type": "stream",
     "text": [
      "/usr/lib/python3.6/importlib/_bootstrap.py:219: RuntimeWarning: numpy.dtype size changed, may indicate binary incompatibility. Expected 96, got 88\n",
      "  return f(*args, **kwds)\n",
      "/usr/lib/python3.6/importlib/_bootstrap.py:219: RuntimeWarning: numpy.dtype size changed, may indicate binary incompatibility. Expected 96, got 88\n",
      "  return f(*args, **kwds)\n"
     ]
    }
   ],
   "source": [
    "import pandas as pd\n",
    "import matplotlib.pyplot as plt\n",
    "import numpy as np"
   ]
  },
  {
   "cell_type": "code",
   "execution_count": 2,
   "metadata": {},
   "outputs": [],
   "source": [
    "df = pd.read_csv(\"sleep_12.csv\")"
   ]
  },
  {
   "cell_type": "code",
   "execution_count": null,
   "metadata": {},
   "outputs": [],
   "source": []
  },
  {
   "cell_type": "code",
   "execution_count": 3,
   "metadata": {},
   "outputs": [
    {
     "data": {
      "text/html": [
       "<div>\n",
       "<style scoped>\n",
       "    .dataframe tbody tr th:only-of-type {\n",
       "        vertical-align: middle;\n",
       "    }\n",
       "\n",
       "    .dataframe tbody tr th {\n",
       "        vertical-align: top;\n",
       "    }\n",
       "\n",
       "    .dataframe thead th {\n",
       "        text-align: right;\n",
       "    }\n",
       "</style>\n",
       "<table border=\"1\" class=\"dataframe\">\n",
       "  <thead>\n",
       "    <tr style=\"text-align: right;\">\n",
       "      <th></th>\n",
       "      <th>ACCELEROMETER_X</th>\n",
       "      <th>ACCELEROMETER_Y</th>\n",
       "      <th>ACCELEROMETER_Z</th>\n",
       "      <th>GRAVITY X (m/s²)</th>\n",
       "      <th>GRAVITY Y (m/s²)</th>\n",
       "      <th>GRAVITY Z (m/s²)</th>\n",
       "      <th>LINEAR_X</th>\n",
       "      <th>LINEAR_Y</th>\n",
       "      <th>LINEAR_Z</th>\n",
       "      <th>GYROSCOPE X (rad/s)</th>\n",
       "      <th>...</th>\n",
       "      <th>PROXIMITY (m)</th>\n",
       "      <th>SOUNDLEVEL</th>\n",
       "      <th>LOCATION Latitude :</th>\n",
       "      <th>LOCATION Longitude :</th>\n",
       "      <th>LOCATION Altitude ( m)</th>\n",
       "      <th>LOCATION Altitude-google ( m)</th>\n",
       "      <th>LOCATION Speed ( m/s)</th>\n",
       "      <th>LOCATION Accuracy ( m)</th>\n",
       "      <th>LOCATION ORIENTATION (°)</th>\n",
       "      <th>Time</th>\n",
       "    </tr>\n",
       "  </thead>\n",
       "  <tbody>\n",
       "    <tr>\n",
       "      <th>count</th>\n",
       "      <td>50023.000000</td>\n",
       "      <td>50023.000000</td>\n",
       "      <td>50023.000000</td>\n",
       "      <td>50023.000000</td>\n",
       "      <td>50023.000000</td>\n",
       "      <td>50023.000000</td>\n",
       "      <td>50023.000000</td>\n",
       "      <td>50023.000000</td>\n",
       "      <td>50023.000000</td>\n",
       "      <td>50023.000000</td>\n",
       "      <td>...</td>\n",
       "      <td>50023.000000</td>\n",
       "      <td>50023.000000</td>\n",
       "      <td>0.0</td>\n",
       "      <td>0.0</td>\n",
       "      <td>0.0</td>\n",
       "      <td>0.0</td>\n",
       "      <td>0.0</td>\n",
       "      <td>0.0</td>\n",
       "      <td>0.0</td>\n",
       "      <td>5.002300e+04</td>\n",
       "    </tr>\n",
       "    <tr>\n",
       "      <th>mean</th>\n",
       "      <td>-1.385248</td>\n",
       "      <td>-0.639822</td>\n",
       "      <td>9.861236</td>\n",
       "      <td>-1.357791</td>\n",
       "      <td>-0.629561</td>\n",
       "      <td>9.678503</td>\n",
       "      <td>-0.000530</td>\n",
       "      <td>-0.000012</td>\n",
       "      <td>0.000090</td>\n",
       "      <td>-0.000134</td>\n",
       "      <td>...</td>\n",
       "      <td>4.961918</td>\n",
       "      <td>16.953486</td>\n",
       "      <td>NaN</td>\n",
       "      <td>NaN</td>\n",
       "      <td>NaN</td>\n",
       "      <td>NaN</td>\n",
       "      <td>NaN</td>\n",
       "      <td>NaN</td>\n",
       "      <td>NaN</td>\n",
       "      <td>1.250626e+07</td>\n",
       "    </tr>\n",
       "    <tr>\n",
       "      <th>std</th>\n",
       "      <td>0.433425</td>\n",
       "      <td>0.266973</td>\n",
       "      <td>0.076045</td>\n",
       "      <td>0.423380</td>\n",
       "      <td>0.266074</td>\n",
       "      <td>0.083623</td>\n",
       "      <td>0.046264</td>\n",
       "      <td>0.045906</td>\n",
       "      <td>0.037945</td>\n",
       "      <td>0.026630</td>\n",
       "      <td>...</td>\n",
       "      <td>0.434702</td>\n",
       "      <td>3.591969</td>\n",
       "      <td>NaN</td>\n",
       "      <td>NaN</td>\n",
       "      <td>NaN</td>\n",
       "      <td>NaN</td>\n",
       "      <td>NaN</td>\n",
       "      <td>NaN</td>\n",
       "      <td>NaN</td>\n",
       "      <td>7.220283e+06</td>\n",
       "    </tr>\n",
       "    <tr>\n",
       "      <th>min</th>\n",
       "      <td>-3.291000</td>\n",
       "      <td>-1.534000</td>\n",
       "      <td>6.863000</td>\n",
       "      <td>-3.362000</td>\n",
       "      <td>-3.152000</td>\n",
       "      <td>9.179000</td>\n",
       "      <td>-9.697000</td>\n",
       "      <td>-9.477000</td>\n",
       "      <td>-4.527000</td>\n",
       "      <td>-3.917000</td>\n",
       "      <td>...</td>\n",
       "      <td>0.000000</td>\n",
       "      <td>11.670000</td>\n",
       "      <td>NaN</td>\n",
       "      <td>NaN</td>\n",
       "      <td>NaN</td>\n",
       "      <td>NaN</td>\n",
       "      <td>NaN</td>\n",
       "      <td>NaN</td>\n",
       "      <td>NaN</td>\n",
       "      <td>5.000000e+00</td>\n",
       "    </tr>\n",
       "    <tr>\n",
       "      <th>25%</th>\n",
       "      <td>-1.292000</td>\n",
       "      <td>-0.759000</td>\n",
       "      <td>9.871000</td>\n",
       "      <td>-1.271000</td>\n",
       "      <td>-0.743000</td>\n",
       "      <td>9.700000</td>\n",
       "      <td>-0.005000</td>\n",
       "      <td>-0.005000</td>\n",
       "      <td>-0.006000</td>\n",
       "      <td>0.000000</td>\n",
       "      <td>...</td>\n",
       "      <td>5.000000</td>\n",
       "      <td>14.910000</td>\n",
       "      <td>NaN</td>\n",
       "      <td>NaN</td>\n",
       "      <td>NaN</td>\n",
       "      <td>NaN</td>\n",
       "      <td>NaN</td>\n",
       "      <td>NaN</td>\n",
       "      <td>NaN</td>\n",
       "      <td>6.253138e+06</td>\n",
       "    </tr>\n",
       "    <tr>\n",
       "      <th>50%</th>\n",
       "      <td>-1.245000</td>\n",
       "      <td>-0.730000</td>\n",
       "      <td>9.882000</td>\n",
       "      <td>-1.221000</td>\n",
       "      <td>-0.715000</td>\n",
       "      <td>9.705000</td>\n",
       "      <td>0.000000</td>\n",
       "      <td>0.000000</td>\n",
       "      <td>0.000000</td>\n",
       "      <td>0.000000</td>\n",
       "      <td>...</td>\n",
       "      <td>5.000000</td>\n",
       "      <td>15.930000</td>\n",
       "      <td>NaN</td>\n",
       "      <td>NaN</td>\n",
       "      <td>NaN</td>\n",
       "      <td>NaN</td>\n",
       "      <td>NaN</td>\n",
       "      <td>NaN</td>\n",
       "      <td>NaN</td>\n",
       "      <td>1.250640e+07</td>\n",
       "    </tr>\n",
       "    <tr>\n",
       "      <th>75%</th>\n",
       "      <td>-1.214000</td>\n",
       "      <td>-0.652000</td>\n",
       "      <td>9.889000</td>\n",
       "      <td>-1.192000</td>\n",
       "      <td>-0.639000</td>\n",
       "      <td>9.707000</td>\n",
       "      <td>0.005000</td>\n",
       "      <td>0.005000</td>\n",
       "      <td>0.006000</td>\n",
       "      <td>0.000000</td>\n",
       "      <td>...</td>\n",
       "      <td>5.000000</td>\n",
       "      <td>17.490000</td>\n",
       "      <td>NaN</td>\n",
       "      <td>NaN</td>\n",
       "      <td>NaN</td>\n",
       "      <td>NaN</td>\n",
       "      <td>NaN</td>\n",
       "      <td>NaN</td>\n",
       "      <td>NaN</td>\n",
       "      <td>1.875913e+07</td>\n",
       "    </tr>\n",
       "    <tr>\n",
       "      <th>max</th>\n",
       "      <td>0.532000</td>\n",
       "      <td>1.305000</td>\n",
       "      <td>10.688000</td>\n",
       "      <td>0.945000</td>\n",
       "      <td>3.058000</td>\n",
       "      <td>9.771000</td>\n",
       "      <td>0.628000</td>\n",
       "      <td>0.537000</td>\n",
       "      <td>4.609000</td>\n",
       "      <td>1.584000</td>\n",
       "      <td>...</td>\n",
       "      <td>5.000000</td>\n",
       "      <td>55.490000</td>\n",
       "      <td>NaN</td>\n",
       "      <td>NaN</td>\n",
       "      <td>NaN</td>\n",
       "      <td>NaN</td>\n",
       "      <td>NaN</td>\n",
       "      <td>NaN</td>\n",
       "      <td>NaN</td>\n",
       "      <td>2.501139e+07</td>\n",
       "    </tr>\n",
       "  </tbody>\n",
       "</table>\n",
       "<p>8 rows × 29 columns</p>\n",
       "</div>"
      ],
      "text/plain": [
       "       ACCELEROMETER_X  ACCELEROMETER_Y  ACCELEROMETER_Z  GRAVITY X (m/s²)  \\\n",
       "count     50023.000000     50023.000000     50023.000000      50023.000000   \n",
       "mean         -1.385248        -0.639822         9.861236         -1.357791   \n",
       "std           0.433425         0.266973         0.076045          0.423380   \n",
       "min          -3.291000        -1.534000         6.863000         -3.362000   \n",
       "25%          -1.292000        -0.759000         9.871000         -1.271000   \n",
       "50%          -1.245000        -0.730000         9.882000         -1.221000   \n",
       "75%          -1.214000        -0.652000         9.889000         -1.192000   \n",
       "max           0.532000         1.305000        10.688000          0.945000   \n",
       "\n",
       "       GRAVITY Y (m/s²)  GRAVITY Z (m/s²)      LINEAR_X      LINEAR_Y  \\\n",
       "count      50023.000000      50023.000000  50023.000000  50023.000000   \n",
       "mean          -0.629561          9.678503     -0.000530     -0.000012   \n",
       "std            0.266074          0.083623      0.046264      0.045906   \n",
       "min           -3.152000          9.179000     -9.697000     -9.477000   \n",
       "25%           -0.743000          9.700000     -0.005000     -0.005000   \n",
       "50%           -0.715000          9.705000      0.000000      0.000000   \n",
       "75%           -0.639000          9.707000      0.005000      0.005000   \n",
       "max            3.058000          9.771000      0.628000      0.537000   \n",
       "\n",
       "           LINEAR_Z  GYROSCOPE X (rad/s)      ...       PROXIMITY (m)  \\\n",
       "count  50023.000000         50023.000000      ...        50023.000000   \n",
       "mean       0.000090            -0.000134      ...            4.961918   \n",
       "std        0.037945             0.026630      ...            0.434702   \n",
       "min       -4.527000            -3.917000      ...            0.000000   \n",
       "25%       -0.006000             0.000000      ...            5.000000   \n",
       "50%        0.000000             0.000000      ...            5.000000   \n",
       "75%        0.006000             0.000000      ...            5.000000   \n",
       "max        4.609000             1.584000      ...            5.000000   \n",
       "\n",
       "         SOUNDLEVEL  LOCATION Latitude :   LOCATION Longitude :   \\\n",
       "count  50023.000000                   0.0                    0.0   \n",
       "mean      16.953486                   NaN                    NaN   \n",
       "std        3.591969                   NaN                    NaN   \n",
       "min       11.670000                   NaN                    NaN   \n",
       "25%       14.910000                   NaN                    NaN   \n",
       "50%       15.930000                   NaN                    NaN   \n",
       "75%       17.490000                   NaN                    NaN   \n",
       "max       55.490000                   NaN                    NaN   \n",
       "\n",
       "       LOCATION Altitude ( m)  LOCATION Altitude-google ( m)  \\\n",
       "count                     0.0                            0.0   \n",
       "mean                      NaN                            NaN   \n",
       "std                       NaN                            NaN   \n",
       "min                       NaN                            NaN   \n",
       "25%                       NaN                            NaN   \n",
       "50%                       NaN                            NaN   \n",
       "75%                       NaN                            NaN   \n",
       "max                       NaN                            NaN   \n",
       "\n",
       "       LOCATION Speed ( m/s)  LOCATION Accuracy ( m)  \\\n",
       "count                    0.0                     0.0   \n",
       "mean                     NaN                     NaN   \n",
       "std                      NaN                     NaN   \n",
       "min                      NaN                     NaN   \n",
       "25%                      NaN                     NaN   \n",
       "50%                      NaN                     NaN   \n",
       "75%                      NaN                     NaN   \n",
       "max                      NaN                     NaN   \n",
       "\n",
       "       LOCATION ORIENTATION (°)        Time    \n",
       "count                       0.0  5.002300e+04  \n",
       "mean                        NaN  1.250626e+07  \n",
       "std                         NaN  7.220283e+06  \n",
       "min                         NaN  5.000000e+00  \n",
       "25%                         NaN  6.253138e+06  \n",
       "50%                         NaN  1.250640e+07  \n",
       "75%                         NaN  1.875913e+07  \n",
       "max                         NaN  2.501139e+07  \n",
       "\n",
       "[8 rows x 29 columns]"
      ]
     },
     "execution_count": 3,
     "metadata": {},
     "output_type": "execute_result"
    }
   ],
   "source": [
    "df.describe()"
   ]
  },
  {
   "cell_type": "code",
   "execution_count": 4,
   "metadata": {},
   "outputs": [],
   "source": [
    "df1 = df.loc[:,[\"LINEAR_X\",\"SOUNDLEVEL\"]]"
   ]
  },
  {
   "cell_type": "code",
   "execution_count": null,
   "metadata": {},
   "outputs": [],
   "source": [
    "\n"
   ]
  },
  {
   "cell_type": "code",
   "execution_count": 5,
   "metadata": {},
   "outputs": [
    {
     "data": {
      "text/html": [
       "<div>\n",
       "<style scoped>\n",
       "    .dataframe tbody tr th:only-of-type {\n",
       "        vertical-align: middle;\n",
       "    }\n",
       "\n",
       "    .dataframe tbody tr th {\n",
       "        vertical-align: top;\n",
       "    }\n",
       "\n",
       "    .dataframe thead th {\n",
       "        text-align: right;\n",
       "    }\n",
       "</style>\n",
       "<table border=\"1\" class=\"dataframe\">\n",
       "  <thead>\n",
       "    <tr style=\"text-align: right;\">\n",
       "      <th></th>\n",
       "      <th>LINEAR_X</th>\n",
       "      <th>SOUNDLEVEL</th>\n",
       "    </tr>\n",
       "  </thead>\n",
       "  <tbody>\n",
       "    <tr>\n",
       "      <th>LINEAR_X</th>\n",
       "      <td>1.000000</td>\n",
       "      <td>-0.016288</td>\n",
       "    </tr>\n",
       "    <tr>\n",
       "      <th>SOUNDLEVEL</th>\n",
       "      <td>-0.016288</td>\n",
       "      <td>1.000000</td>\n",
       "    </tr>\n",
       "  </tbody>\n",
       "</table>\n",
       "</div>"
      ],
      "text/plain": [
       "            LINEAR_X  SOUNDLEVEL\n",
       "LINEAR_X    1.000000   -0.016288\n",
       "SOUNDLEVEL -0.016288    1.000000"
      ]
     },
     "execution_count": 5,
     "metadata": {},
     "output_type": "execute_result"
    }
   ],
   "source": [
    "df1.corr(method=\"pearson\")"
   ]
  },
  {
   "cell_type": "code",
   "execution_count": 6,
   "metadata": {},
   "outputs": [
    {
     "data": {
      "image/png": "[encoded data removed]",
      "text/plain": [
       "<Figure size 432x288 with 1 Axes>"
      ]
     },
     "metadata": {},
     "output_type": "display_data"
    }
   ],
   "source": [
    "ax1 = df.plot.scatter(x='LINEAR_X',y='SOUNDLEVEL',c='DarkBlue')"
   ]
  },
  {
   "cell_type": "code",
   "execution_count": 7,
   "metadata": {},
   "outputs": [
    {
     "data": {
      "text/plain": [
       "LINEAR_X      -9.697\n",
       "SOUNDLEVEL    11.670\n",
       "dtype: float64"
      ]
     },
     "execution_count": 7,
     "metadata": {},
     "output_type": "execute_result"
    }
   ],
   "source": [
    "df1.min()"
   ]
  },
  {
   "cell_type": "code",
   "execution_count": 8,
   "metadata": {},
   "outputs": [
    {
     "data": {
      "image/png": "[encoded data removed]",
      "text/plain": [
       "<Figure size 432x288 with 1 Axes>"
      ]
     },
     "metadata": {},
     "output_type": "display_data"
    }
   ],
   "source": [
    "plt.plot( df.LINEAR_Z.rolling(1800).mean(),'g')\n",
    "plt.plot(df.LINEAR_X.rolling(1800).mean(),'b')\n",
    "plt.plot(df.LINEAR_Y.rolling(1800).mean(),'r')\n",
    "plt.show()"
   ]
  },
  {
   "cell_type": "code",
   "execution_count": 9,
   "metadata": {},
   "outputs": [
    {
     "name": "stderr",
     "output_type": "stream",
     "text": [
      "/home/kpit/.local/lib/python3.6/site-packages/ipykernel_launcher.py:1: DeprecationWarning: \n",
      ".ix is deprecated. Please use\n",
      ".loc for label based indexing or\n",
      ".iloc for positional indexing\n",
      "\n",
      "See the documentation here:\n",
      "http://pandas.pydata.org/pandas-docs/stable/indexing.html#ix-indexer-is-deprecated\n",
      "  \"\"\"Entry point for launching an IPython kernel.\n"
     ]
    }
   ],
   "source": [
    "mean = pd.concat([df.ix[:,i:i+3].mean(axis=1) for i in range(6,9,3)], axis=1)"
   ]
  },
  {
   "cell_type": "code",
   "execution_count": 10,
   "metadata": {},
   "outputs": [],
   "source": [
    "m = pd.DataFrame(mean)"
   ]
  },
  {
   "cell_type": "code",
   "execution_count": null,
   "metadata": {},
   "outputs": [
    {
     "data": {
      "text/plain": [
       "[<matplotlib.lines.Line2D at 0x7f109fb3c978>]"
      ]
     },
     "execution_count": 11,
     "metadata": {},
     "output_type": "execute_result"
    }
   ],
   "source": [
    "plt.plot(m,df[\"Date\"])"
   ]
  },
  {
   "cell_type": "code",
   "execution_count": null,
   "metadata": {},
   "outputs": [],
   "source": [
    "m_req  =mean[mean.abs() < 0.3].dropna()\n"
   ]
  },
  {
   "cell_type": "code",
   "execution_count": null,
   "metadata": {},
   "outputs": [],
   "source": [
    "plt.plot( m_req.rolling(2).mean(),'g')"
   ]
  },
  {
   "cell_type": "code",
   "execution_count": null,
   "metadata": {},
   "outputs": [],
   "source": [
    " m[ m.iloc[:,]<= -1].dropna()"
   ]
  },
  {
   "cell_type": "code",
   "execution_count": null,
   "metadata": {},
   "outputs": [],
   "source": [
    "df.loc[28355,\"Date\"]"
   ]
  },
  {
   "cell_type": "markdown",
   "metadata": {},
   "source": [
    "plt.plot(m.abs().rolling(1200).max())"
   ]
  },
  {
   "cell_type": "markdown",
   "metadata": {},
   "source": [
    "# gdqiwugiqwgfukgi\n",
    "asdvhadvkasbdk\n",
    "sadhasbkfballsf"
   ]
  },
  {
   "cell_type": "code",
   "execution_count": null,
   "metadata": {},
   "outputs": [],
   "source": [
    "np_array = df.SOUNDLEVEL.values"
   ]
  },
  {
   "cell_type": "code",
   "execution_count": null,
   "metadata": {},
   "outputs": [],
   "source": [
    "fourier =  np.fft.fft(np_array)"
   ]
  },
  {
   "cell_type": "code",
   "execution_count": null,
   "metadata": {},
   "outputs": [],
   "source": [
    "arr =fourier.conjugate()*fourier"
   ]
  },
  {
   "cell_type": "code",
   "execution_count": null,
   "metadata": {},
   "outputs": [],
   "source": [
    "arr = np.sqrt(arr)"
   ]
  },
  {
   "cell_type": "code",
   "execution_count": null,
   "metadata": {},
   "outputs": [],
   "source": [
    "arr = np.absolute(arr)"
   ]
  },
  {
   "cell_type": "code",
   "execution_count": null,
   "metadata": {},
   "outputs": [],
   "source": []
  },
  {
   "cell_type": "code",
   "execution_count": null,
   "metadata": {},
   "outputs": [],
   "source": []
  }
 ],
 "metadata": {
  "kernelspec": {
   "display_name": "Python 3",
   "language": "python",
   "name": "python3"
  },
  "language_info": {
   "codemirror_mode": {
    "name": "ipython",
    "version": 3
   },
   "file_extension": ".py",
   "mimetype": "text/x-python",
   "name": "python",
   "nbconvert_exporter": "python",
   "pygments_lexer": "ipython3",
   "version": "3.6.5"
  }
 },
 "nbformat": 4,
 "nbformat_minor": 2
}
